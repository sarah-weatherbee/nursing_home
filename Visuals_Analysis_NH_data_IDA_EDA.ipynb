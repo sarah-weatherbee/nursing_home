{
 "cells": [
  {
   "cell_type": "code",
   "execution_count": 1,
   "id": "6ed7bd1b",
   "metadata": {},
   "outputs": [],
   "source": [
    "# import libraries\n",
    "import polars as pl\n",
    "import pandas as pd\n",
    "import pyarrow.parquet as pq\n",
    "import scipy.stats as sts\n",
    "import numpy as np\n",
    "import matplotlib.pyplot as plt\n",
    "import sklearn\n",
    "import seaborn as sns\n",
    "#import plotly.express as px\n",
    "#import plotly.graph_objs as go\n",
    "import dask\n",
    "from dask.distributed import Client, LocalCluster\n",
    "import dask.dataframe as dd\n",
    "import dask.config\n",
    "#import geopandas as gpd\n",
    "# import osmnx as ox\n",
    "import json\n",
    "from datetime import datetime, timedelta, date\n",
    "import os\n",
    "import time\n",
    "import sys\n",
    "import requests\n",
    "# import sidetable\n",
    "import warnings\n",
    "warnings.filterwarnings('ignore')"
   ]
  },
  {
   "cell_type": "code",
   "execution_count": null,
   "id": "cd373a5b",
   "metadata": {},
   "outputs": [],
   "source": []
  },
  {
   "cell_type": "code",
   "execution_count": null,
   "id": "dcf7fa54",
   "metadata": {},
   "outputs": [],
   "source": []
  },
  {
   "cell_type": "markdown",
   "id": "a751f362",
   "metadata": {},
   "source": [
    "### Plot: distribution of staff vax and res vax pcts for Jefferson county by month-yr"
   ]
  },
  {
   "cell_type": "code",
   "execution_count": null,
   "id": "792e09df",
   "metadata": {},
   "outputs": [],
   "source": [
    "jeff_cty_pass['month_year'] = pd.to_datetime(jeff_cty_pass['month_year'], format='%Y-%m')\n",
    "\n",
    "\n",
    "fig = px.box(jeff_cty_pass, x='month_year', y='pct_hcp_comp_c19_vax', points='all')\n",
    "\n",
    "fig.update_layout(\n",
    "    autosize=False,\n",
    "    width=1200,\n",
    "    height=600\n",
    ")\n",
    "\n",
    "fig.show()"
   ]
  },
  {
   "cell_type": "code",
   "execution_count": null,
   "id": "b3e752df",
   "metadata": {},
   "outputs": [],
   "source": [
    "fig = px.line(nh_latest_sub_end_22_county_grp_y.loc[(nh_latest_sub_end_22_county_grp_y['provider_state'] == 'KY') &\n",
    "                                                  (nh_latest_sub_end_22_county_grp_y['county'] == 'Nelson')],\n",
    "                 x=\"week_start\", y=[\"pct_res_utd_c19_vax\",\"pct_hcp_utd_c19_vax\"],\n",
    "                  markers=True,\n",
    "                 #facet_col=\"county\", facet_col_wrap=7,\n",
    "                  title=\"Nursing home residents and staff Covid-19 vaccination rates: Nelson County KY\"\n",
    "             )\n",
    "#fig.update_yaxes(matches=None)\n",
    "fig.update_layout(\n",
    "    #autosize=True,\n",
    "    #width=1000,\n",
    "    #height=600,   \n",
    "    paper_bgcolor='rgba(0,0,0,0)',\n",
    "    plot_bgcolor='rgba(0,0,0,0)')\n",
    "\n",
    "\n",
    "\n",
    "for axis in fig.layout:\n",
    "    if type(fig.layout[axis]) == go.layout.YAxis:\n",
    "        fig.layout[axis].title.text = ''\n",
    "        \n",
    "fig.show()"
   ]
  }
 ],
 "metadata": {
  "kernelspec": {
   "display_name": "Python 3 (ipykernel)",
   "language": "python",
   "name": "python3"
  },
  "language_info": {
   "codemirror_mode": {
    "name": "ipython",
    "version": 3
   },
   "file_extension": ".py",
   "mimetype": "text/x-python",
   "name": "python",
   "nbconvert_exporter": "python",
   "pygments_lexer": "ipython3",
   "version": "3.9.12"
  }
 },
 "nbformat": 4,
 "nbformat_minor": 5
}
